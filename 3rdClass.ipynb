{
  "nbformat": 4,
  "nbformat_minor": 0,
  "metadata": {
    "colab": {
      "provenance": [],
      "authorship_tag": "ABX9TyMN5DrIJgAkuahIcv8zkW6D",
      "include_colab_link": true
    },
    "kernelspec": {
      "name": "python3",
      "display_name": "Python 3"
    },
    "language_info": {
      "name": "python"
    }
  },
  "cells": [
    {
      "cell_type": "markdown",
      "metadata": {
        "id": "view-in-github",
        "colab_type": "text"
      },
      "source": [
        "<a href=\"https://colab.research.google.com/github/parneetsaxena/WCTM/blob/main/3rdClass.ipynb\" target=\"_parent\"><img src=\"https://colab.research.google.com/assets/colab-badge.svg\" alt=\"Open In Colab\"/></a>"
      ]
    },
    {
      "cell_type": "code",
      "execution_count": null,
      "metadata": {
        "id": "yGGiIoRxcypB"
      },
      "outputs": [],
      "source": [
        "#Write a program to find the greatest between two\n",
        "a = 20\n",
        "b = 30\n",
        "if(a>b):\n",
        "  print(\"A is greater\")\n",
        "else:\n",
        "  print(\"B is greater\")"
      ]
    },
    {
      "cell_type": "code",
      "source": [
        "#Write a program to find if a number is negative or positive\n",
        "a = int(input(\"Enter a number: \"))\n",
        "if(a<0):\n",
        "  print(\"Negative\")\n",
        "elif(a>0):\n",
        "  print(\"Positive\")\n",
        "else:\n",
        "  print(\"Zero\")"
      ],
      "metadata": {
        "id": "VuJi1qTQfmZP"
      },
      "execution_count": null,
      "outputs": []
    },
    {
      "cell_type": "code",
      "source": [
        "#Write a program to swap two variables with the help of third variable\n",
        "a = 10\n",
        "b = 68\n",
        "c = a\n",
        "a = b\n",
        "b = c\n",
        "print(a)\n",
        "print(b)"
      ],
      "metadata": {
        "id": "ySV6Rexhfmfj"
      },
      "execution_count": null,
      "outputs": []
    },
    {
      "cell_type": "code",
      "source": [
        "#Write a program to print to print the multiplication of a table\n",
        "number = int(input(\"Enter a number to get a table: \"))\n",
        "for i in range(1,11,1):\n",
        "  print(f\"{number}*{i} = {number*i}\")"
      ],
      "metadata": {
        "id": "UIHmoQ2Afmlb"
      },
      "execution_count": null,
      "outputs": []
    },
    {
      "cell_type": "code",
      "source": [
        "#Write a program to find the sum of all digits in a number\n",
        "num = int(input(\"Enter a number: \"))\n",
        "num_str = str(num)\n",
        "total = 0\n",
        "for digit in num_str:\n",
        "  total += int(digit)\n",
        "print(f\"The sum of the digits in {num} is {total}\")"
      ],
      "metadata": {
        "id": "REKeqj4Bfmt3"
      },
      "execution_count": null,
      "outputs": []
    },
    {
      "cell_type": "code",
      "source": [
        "#Write a program to reverse the numbers in a list\n",
        "list1 = [10,13,14,61,324,542,667]\n",
        "list1.reverse()\n",
        "print(list1)"
      ],
      "metadata": {
        "id": "QdUkX2Rdfm5K"
      },
      "execution_count": null,
      "outputs": []
    },
    {
      "cell_type": "code",
      "source": [
        "#Write a program to check the vowels present in a string\n",
        "string = input(\"Enter a string: \")\n",
        "vowels = \"aeiouAEIOU\"\n",
        "found_vowels = \"\"\n",
        "\n",
        "for char in string:\n",
        "  if char in vowels:\n",
        "    found_vowels += char\n",
        "\n",
        "if found_vowels:\n",
        "  print(f\"The vowels in the string are: {found_vowels}\")\n",
        "else:\n",
        "  print(\"There are no vowels in the string.\")\n",
        ""
      ],
      "metadata": {
        "id": "nHpsUzUgfm_b"
      },
      "execution_count": null,
      "outputs": []
    },
    {
      "cell_type": "code",
      "source": [
        "#Write a program to use all arithmetic operations\n",
        "number1 = 123\n",
        "number2 = 456\n",
        "addition=number1+number2\n",
        "subtraction=number1-number2\n",
        "product=number1*number2\n",
        "quotient=number1/number2\n",
        "remainder=number1%number2\n",
        "\n",
        "print(f\"Addition: {addition}\")\n",
        "print(f\"Subtraction: {subtraction}\")\n",
        "print(f\"Product: {product}\")\n",
        "print(f\"Quotient: {quotient}\")\n",
        "print(f\"Remainder: {remainder}\")"
      ],
      "metadata": {
        "id": "Ar1pTJ50fnH5"
      },
      "execution_count": null,
      "outputs": []
    },
    {
      "cell_type": "code",
      "source": [
        "#Write a program to find greatest between two\n",
        "number1=25\n",
        "number2=35\n",
        "if(number1>number2):\n",
        "  print(\"The first number is greater\")\n",
        "else:\n",
        "  print(\"The second number is greater\")"
      ],
      "metadata": {
        "id": "hk4nTjhefnoD"
      },
      "execution_count": null,
      "outputs": []
    }
  ]
}