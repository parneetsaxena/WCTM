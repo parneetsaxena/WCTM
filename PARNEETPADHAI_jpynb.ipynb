{
  "nbformat": 4,
  "nbformat_minor": 0,
  "metadata": {
    "colab": {
      "provenance": [],
      "authorship_tag": "ABX9TyMdiyS4lm4LYoQpudRtaHkU",
      "include_colab_link": true
    },
    "kernelspec": {
      "name": "python3",
      "display_name": "Python 3"
    },
    "language_info": {
      "name": "python"
    }
  },
  "cells": [
    {
      "cell_type": "markdown",
      "metadata": {
        "id": "view-in-github",
        "colab_type": "text"
      },
      "source": [
        "<a href=\"https://colab.research.google.com/github/parneetsaxena/WCTM/blob/main/PARNEETPADHAI_jpynb.ipynb\" target=\"_parent\"><img src=\"https://colab.research.google.com/assets/colab-badge.svg\" alt=\"Open In Colab\"/></a>"
      ]
    },
    {
      "cell_type": "code",
      "source": [
        "#Program for 5 table\n",
        "for j in range(11):\n",
        "  print(f\"{5}*{j} = {5*j}\")"
      ],
      "metadata": {
        "colab": {
          "base_uri": "https://localhost:8080/"
        },
        "id": "KxBE3He1yp2P",
        "outputId": "f23aed8e-2194-4ee6-b8cc-c94afaa84249",
        "collapsed": true
      },
      "execution_count": null,
      "outputs": [
        {
          "output_type": "stream",
          "name": "stdout",
          "text": [
            "5*0 = 0\n",
            "5*1 = 5\n",
            "5*2 = 10\n",
            "5*3 = 15\n",
            "5*4 = 20\n",
            "5*5 = 25\n",
            "5*6 = 30\n",
            "5*7 = 35\n",
            "5*8 = 40\n",
            "5*9 = 45\n",
            "5*10 = 50\n"
          ]
        }
      ]
    },
    {
      "cell_type": "code",
      "source": [
        "#Program to print number from 20\n",
        "for i in range(21):\n",
        "  print(i)"
      ],
      "metadata": {
        "colab": {
          "base_uri": "https://localhost:8080/"
        },
        "id": "bIzX7WR50WAS",
        "outputId": "122ec0ad-5f6e-420e-8f39-6107285b92a9",
        "collapsed": true
      },
      "execution_count": null,
      "outputs": [
        {
          "output_type": "stream",
          "name": "stdout",
          "text": [
            "0\n",
            "1\n",
            "2\n",
            "3\n",
            "4\n",
            "5\n",
            "6\n",
            "7\n",
            "8\n",
            "9\n",
            "10\n",
            "11\n",
            "12\n",
            "13\n",
            "14\n",
            "15\n",
            "16\n",
            "17\n",
            "18\n",
            "19\n",
            "20\n"
          ]
        }
      ]
    },
    {
      "cell_type": "code",
      "source": [
        "#Program for area of triangle\n",
        "def area_triangle(b,h):\n",
        "  return (1/2*b*h)\n",
        "\n",
        "area = area_triangle(2,3)\n",
        "print(area)\n"
      ],
      "metadata": {
        "colab": {
          "base_uri": "https://localhost:8080/"
        },
        "id": "xfGAcNbX0i_z",
        "outputId": "e04dfb5d-6baf-40c9-a7e4-b32d6754e464",
        "collapsed": true
      },
      "execution_count": null,
      "outputs": [
        {
          "output_type": "stream",
          "name": "stdout",
          "text": [
            "3.0\n"
          ]
        }
      ]
    },
    {
      "cell_type": "markdown",
      "source": [],
      "metadata": {
        "id": "D8Bvqzzb1IsC"
      }
    },
    {
      "cell_type": "code",
      "source": [
        "#Area for gola\n",
        "def area_circle(r):\n",
        "  return (3.14*r*r)\n",
        "\n",
        "area = float(area_circle(2))\n",
        "print(area)"
      ],
      "metadata": {
        "colab": {
          "base_uri": "https://localhost:8080/"
        },
        "id": "SmMRrzPR1I2x",
        "outputId": "c0676045-5967-43d2-89b1-a1714045f4bc",
        "collapsed": true
      },
      "execution_count": null,
      "outputs": [
        {
          "output_type": "stream",
          "name": "stdout",
          "text": [
            "12.56\n"
          ]
        }
      ]
    },
    {
      "cell_type": "code",
      "source": [
        "#area for chatkon\n",
        "def area_rectangle(l,b):\n",
        "  return l*b\n",
        "l=int(input(\"Enter length = \"))\n",
        "b = int(input(\"Enter breadth = \"))\n",
        "area = area_rectangle(l,b)\n",
        "print(area)"
      ],
      "metadata": {
        "colab": {
          "base_uri": "https://localhost:8080/"
        },
        "id": "UUOUxEgE1Zpr",
        "outputId": "f57e8d71-bf9c-471f-d5e4-e62021e1c435"
      },
      "execution_count": null,
      "outputs": [
        {
          "output_type": "stream",
          "name": "stdout",
          "text": [
            "Enter length = 12\n",
            "Enter breadth = 1\n",
            "12\n"
          ]
        }
      ]
    },
    {
      "cell_type": "code",
      "source": [
        "#program to print name,course and address\n",
        "dict={\"Name\":\"Parneet Saxena\",\"Course Name\":\"Artificial Intelligence & Data Science\",\"Address\":\"Bhiwadi\"}\n",
        "print(dict)"
      ],
      "metadata": {
        "colab": {
          "base_uri": "https://localhost:8080/"
        },
        "id": "ir2Z2TU11ZtL",
        "outputId": "00c1ab5c-a310-4363-8019-8b78759ef982"
      },
      "execution_count": null,
      "outputs": [
        {
          "output_type": "stream",
          "name": "stdout",
          "text": [
            "{'Name': 'Parneet Saxena', 'Course Name': 'Artificial Intelligence & Data Science', 'Address': 'Bhiwadi'}\n"
          ]
        }
      ]
    },
    {
      "cell_type": "code",
      "source": [
        "definition = \"Python is a high-level interpreted language used to build websites, do machine learning, for automation and big data etc.\"\n",
        "print(definition)"
      ],
      "metadata": {
        "id": "bxBeMxGp1ZwK"
      },
      "execution_count": null,
      "outputs": []
    },
    {
      "cell_type": "code",
      "source": [
        "ank = int(input(\"Ank batao = \"))\n",
        "if(ank%2==0):\n",
        "  print(\"even\")\n",
        "else:\n",
        "  print(\"odd\")"
      ],
      "metadata": {
        "colab": {
          "base_uri": "https://localhost:8080/"
        },
        "id": "_nJhiwXM1Zy5",
        "outputId": "bfc6c4a7-41ae-432b-ac95-1bac817784cb"
      },
      "execution_count": null,
      "outputs": [
        {
          "output_type": "stream",
          "name": "stdout",
          "text": [
            "Ank batao = 34\n",
            "even\n"
          ]
        }
      ]
    },
    {
      "cell_type": "code",
      "source": [
        "ankA = int(input(\"Enter pehla ank = \"))\n",
        "ankB = int(input(\"Enter dusra ank = \"))\n",
        "if(ankA>ankB):\n",
        "  print(\"ankA bada\")\n",
        "else:\n",
        "  print(\"ankB bada\")"
      ],
      "metadata": {
        "colab": {
          "base_uri": "https://localhost:8080/"
        },
        "id": "rL7d9zrX1Z1l",
        "outputId": "abc74093-8606-4867-b9e8-f7a710f2ba49"
      },
      "execution_count": null,
      "outputs": [
        {
          "output_type": "stream",
          "name": "stdout",
          "text": [
            "Enter pehla ank = 34\n",
            "Enter dusra ank = 5\n",
            "ankA bada\n"
          ]
        }
      ]
    },
    {
      "cell_type": "code",
      "source": [
        "string = \"I am a student of WCTM\"\n",
        "vowel = \"AEIOUaieou\"\n",
        "non_vowel = \"\"\n",
        "for char in string:\n",
        "  if char not in vowel:\n",
        "   non_vowel += char\n",
        "print(non_vowel)"
      ],
      "metadata": {
        "colab": {
          "base_uri": "https://localhost:8080/"
        },
        "id": "1mbkFfXD1Z4K",
        "outputId": "14f9c2a8-b83b-4135-8fbc-e220d2e8a5b3"
      },
      "execution_count": null,
      "outputs": [
        {
          "output_type": "stream",
          "name": "stdout",
          "text": [
            " m  stdnt f WCTM\n"
          ]
        }
      ]
    },
    {
      "cell_type": "code",
      "source": [
        "# program: write a program to print all vowels in a string\n",
        "\n",
        "string = \"I am a student of WCTM\"\n",
        "vowel = \"AEIOUaieou\"\n",
        "vowels_in_string = \"\"\n",
        "for char in string:\n",
        "  if char in vowel:\n",
        "    vowels_in_string += char\n",
        "vowels_in_string"
      ],
      "metadata": {
        "id": "Maxh3j2Z1Z6_",
        "colab": {
          "base_uri": "https://localhost:8080/",
          "height": 35
        },
        "outputId": "018f7d05-e8c6-466a-b4da-1a9ba672f54c"
      },
      "execution_count": null,
      "outputs": [
        {
          "output_type": "execute_result",
          "data": {
            "text/plain": [
              "'Iaaueo'"
            ],
            "application/vnd.google.colaboratory.intrinsic+json": {
              "type": "string"
            }
          },
          "metadata": {},
          "execution_count": 1
        }
      ]
    },
    {
      "cell_type": "code",
      "source": [
        "a,b=100,200\n",
        "max = a if a>b else b\n",
        "print(max)\n",
        "a,b=100,200\n",
        "min = a if a<b else b\n",
        "print(min)"
      ],
      "metadata": {
        "id": "lplAGu3_LPvR",
        "colab": {
          "base_uri": "https://localhost:8080/"
        },
        "outputId": "ecdc2e69-1b71-44c7-d2b0-e7bd95e22cf3"
      },
      "execution_count": 2,
      "outputs": [
        {
          "output_type": "stream",
          "name": "stdout",
          "text": [
            "200\n",
            "100\n"
          ]
        }
      ]
    },
    {
      "cell_type": "code",
      "source": [
        "x=24\n",
        "y=50\n",
        "list=[10,20,30,40,50]\n",
        "if(x not in list):\n",
        "  print(\"X is not present in the given list\")\n",
        "else:\n",
        "  print(\"X is present in the given list\")\n",
        "if(y in list):\n",
        "  print(\"Y is present in the list\")\n",
        "else:\n",
        "  print(\"Y is not present in the list\")"
      ],
      "metadata": {
        "colab": {
          "base_uri": "https://localhost:8080/"
        },
        "id": "IDI_xpwpxLuJ",
        "outputId": "949b39ae-4df8-44b8-b2ee-c7797115b71b"
      },
      "execution_count": 4,
      "outputs": [
        {
          "output_type": "stream",
          "name": "stdout",
          "text": [
            "X is not present in the given list\n",
            "Y is present in the list\n"
          ]
        }
      ]
    },
    {
      "cell_type": "code",
      "source": [
        "exp = 23*2+23\n",
        "print(exp)\n",
        "name = \"Chotu Don\"\n",
        "age=19\n",
        "name1=\"Hadoop\"\n",
        "users=100\n",
        "name2=\"Dholakpur\"\n",
        "population=1500\n",
        "if name==\"Parneet\" or name==\"Chotu Don\" and age>=19:\n",
        "  print(\"Case 1 running\")\n",
        "else:\n",
        "  print(\"Case 1 failed\")\n",
        "if name1==\"Hadoop\" or name1==\"DoomDoom\" and users>=1000:\n",
        "  print(\"Case 2 running\")\n",
        "else:\n",
        "  print(\"Case 2 failed\")\n",
        "if name2==\"Kirmada\" or name2==\"Keechak\" and population>=2000:\n",
        "  print(\"Case 3 running\")\n",
        "else:\n",
        "  print(\"Case 3 failed\")\n",
        "\n"
      ],
      "metadata": {
        "colab": {
          "base_uri": "https://localhost:8080/"
        },
        "id": "9tLfTWeGzOde",
        "outputId": "75c278ca-1332-4446-a0a4-a4629410c535"
      },
      "execution_count": 13,
      "outputs": [
        {
          "output_type": "stream",
          "name": "stdout",
          "text": [
            "69\n",
            "Case 1 running\n",
            "Case 2 running\n",
            "Case 3 failed\n"
          ]
        }
      ]
    },
    {
      "cell_type": "code",
      "source": [
        "a = 2\n",
        "if(a==2):\n",
        "  print(\"a is 2\")\n",
        "else:\n",
        "  print(\"a is not 2\")\n",
        "print(a==3)"
      ],
      "metadata": {
        "colab": {
          "base_uri": "https://localhost:8080/"
        },
        "id": "dQ6sUSMF8V82",
        "outputId": "3c25f451-f0c5-4c14-ddd1-f5a774bd9af4"
      },
      "execution_count": 23,
      "outputs": [
        {
          "output_type": "stream",
          "name": "stdout",
          "text": [
            "a is 2\n",
            "False\n"
          ]
        }
      ]
    },
    {
      "cell_type": "code",
      "source": [
        "# print(100/10*10)\n",
        "# print(2/3**3)\n",
        "# print((5-3)*2)\n",
        "# print(2**2**2)\n",
        "# print(5**2*3+4/2)\n",
        "# print(100 and 10)\n",
        "# print(11 or 12)\n",
        "# print(20 or 50 and 55)\n",
        "# print(not 50 or 50)\n",
        "print((100 & 10)|70)\n"
      ],
      "metadata": {
        "colab": {
          "base_uri": "https://localhost:8080/"
        },
        "id": "Mt75T2bj3dvN",
        "outputId": "68accedc-0b78-4c5f-f17e-74e998cbea13"
      },
      "execution_count": 21,
      "outputs": [
        {
          "output_type": "stream",
          "name": "stdout",
          "text": [
            "70\n"
          ]
        }
      ]
    },
    {
      "cell_type": "code",
      "source": [
        "letter = 'X'\n",
        "list = ['W','C','T','M']\n",
        "if(letter in list):\n",
        "  print(\"Letter found successfully\")\n",
        "else:\n",
        "  print(\"Letter not found\")"
      ],
      "metadata": {
        "colab": {
          "base_uri": "https://localhost:8080/"
        },
        "id": "V9hG31sy9D4t",
        "outputId": "fb462c4e-3eb8-4a79-c456-2e4c2c93b21a"
      },
      "execution_count": 24,
      "outputs": [
        {
          "output_type": "stream",
          "name": "stdout",
          "text": [
            "Letter not found\n"
          ]
        }
      ]
    },
    {
      "cell_type": "code",
      "source": [
        "import math\n",
        "root = math.sqrt(3)\n",
        "length = int(input(\"Enter the side = \"))\n",
        "area = (root/4)*length*length\n",
        "print(area)\n"
      ],
      "metadata": {
        "colab": {
          "base_uri": "https://localhost:8080/"
        },
        "id": "lYduNDy-9sqX",
        "outputId": "ca031b36-2e72-47ae-a7cb-a905b96fa8bf"
      },
      "execution_count": 27,
      "outputs": [
        {
          "output_type": "stream",
          "name": "stdout",
          "text": [
            "Enter the side = 6\n",
            "15.588457268119896\n"
          ]
        }
      ]
    },
    {
      "cell_type": "code",
      "source": [
        "diagonal1 = int(input(\"Enter the first diagonal = \"))\n",
        "diagonal2 = int(input(\"Enter the second diagonal = \"))\n",
        "area = (diagonal1*diagonal2)/2\n",
        "print(area)"
      ],
      "metadata": {
        "colab": {
          "base_uri": "https://localhost:8080/"
        },
        "id": "7GJrNKYm-uGw",
        "outputId": "70cb558f-f528-494d-ed61-96e80cb9e661"
      },
      "execution_count": 28,
      "outputs": [
        {
          "output_type": "stream",
          "name": "stdout",
          "text": [
            "Enter the first diagonal = 2\n",
            "Enter the second diagonal = 1\n",
            "1.0\n"
          ]
        }
      ]
    },
    {
      "cell_type": "code",
      "source": [
        "value1 = int(input(\"Enter the first value = \"))\n",
        "value2 = int(input(\"Enter the second value = \"))\n",
        "value3 = int(input(\"Enter the third value = \"))\n",
        "if(value1>value2 and value1>value3 and value2>value3):\n",
        "  print(value1 + \" is the greatest and \"+ value3 +\" is the largest\")\n",
        "elif(value2>value1 and value2>value3 and value):\n",
        "  print(value2)\n",
        "else:\n",
        "  print(value3)"
      ],
      "metadata": {
        "id": "Dhrv2GC1-uS-"
      },
      "execution_count": null,
      "outputs": []
    },
    {
      "cell_type": "code",
      "source": [],
      "metadata": {
        "id": "SWsa-n7k-uYX"
      },
      "execution_count": null,
      "outputs": []
    },
    {
      "cell_type": "code",
      "source": [],
      "metadata": {
        "id": "48lDlp2k-ubK"
      },
      "execution_count": null,
      "outputs": []
    },
    {
      "cell_type": "code",
      "source": [],
      "metadata": {
        "id": "QmK6t_-n-udt"
      },
      "execution_count": null,
      "outputs": []
    },
    {
      "cell_type": "code",
      "source": [],
      "metadata": {
        "id": "4OXaPsXo-ugh"
      },
      "execution_count": null,
      "outputs": []
    },
    {
      "cell_type": "code",
      "source": [],
      "metadata": {
        "id": "0OYMsUKf-ui4"
      },
      "execution_count": null,
      "outputs": []
    },
    {
      "cell_type": "code",
      "source": [],
      "metadata": {
        "id": "AIoahHT6-ulr"
      },
      "execution_count": null,
      "outputs": []
    },
    {
      "cell_type": "code",
      "source": [],
      "metadata": {
        "id": "I0nr8Ykl-unz"
      },
      "execution_count": null,
      "outputs": []
    }
  ]
}